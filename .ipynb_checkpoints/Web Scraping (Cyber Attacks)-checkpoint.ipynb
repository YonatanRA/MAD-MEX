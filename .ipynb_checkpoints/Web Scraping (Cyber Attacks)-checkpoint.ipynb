{
 "cells": [
  {
   "cell_type": "markdown",
   "metadata": {},
   "source": [
    "# Idea  (Lotka-Volterra)"
   ]
  },
  {
   "cell_type": "code",
   "execution_count": null,
   "metadata": {},
   "outputs": [],
   "source": [
    "import warnings\n",
    "warnings.simplefilter('ignore')\n",
    "\n",
    "import numpy as np\n",
    "\n",
    "from scipy.integrate import odeint\n",
    "\n",
    "import matplotlib.pyplot as plt\n",
    "%matplotlib inline"
   ]
  },
  {
   "cell_type": "code",
   "execution_count": null,
   "metadata": {},
   "outputs": [],
   "source": [
    "# lokta-volterra (x=presas, y=predadores)\n",
    "\n",
    "def lotka(x, t, a, b, c, d):\n",
    "    \n",
    "    dx=a*x[0]-b*x[0]*x[1]\n",
    "    \n",
    "    dy=-c*x[1]+d*x[0]*x[1]\n",
    "    \n",
    "    return np.array([dx, dy])"
   ]
  },
  {
   "cell_type": "code",
   "execution_count": null,
   "metadata": {},
   "outputs": [],
   "source": [
    "# parametros\n",
    "\n",
    "a=0.1   # tasa crecimiento presas\n",
    "b=0.02  # exito de la caza del predador\n",
    "c=0.3   # tasa decrecimiento predador\n",
    "d=0.01  # dado exito caza, cuanto alimenta"
   ]
  },
  {
   "cell_type": "code",
   "execution_count": null,
   "metadata": {},
   "outputs": [],
   "source": [
    "# condiciones iniciales\n",
    "\n",
    "x0=40\n",
    "y0=9\n",
    "\n",
    "conds_ini=np.array([x0, y0])"
   ]
  },
  {
   "cell_type": "code",
   "execution_count": null,
   "metadata": {},
   "outputs": [],
   "source": [
    "# tiempo\n",
    "\n",
    "t=np.linspace(0, 200, 800)"
   ]
  },
  {
   "cell_type": "code",
   "execution_count": null,
   "metadata": {},
   "outputs": [],
   "source": [
    "# solucion ode\n",
    "\n",
    "solucion=odeint(lotka, conds_ini, t, args=(a,b,c,d))"
   ]
  },
  {
   "cell_type": "code",
   "execution_count": null,
   "metadata": {},
   "outputs": [],
   "source": [
    "# plots\n",
    "\n",
    "plt.figure(figsize=(12, 9))\n",
    "plt.title('Evolucion temporal poblacion')\n",
    "plt.plot(t, solucion[:,0], label='presas')\n",
    "plt.plot(t, solucion[:,1], label='predador')\n",
    "plt.xlabel('tiempo')\n",
    "plt.ylabel('poblacion')\n",
    "plt.legend()\n",
    "plt.show();"
   ]
  },
  {
   "cell_type": "code",
   "execution_count": null,
   "metadata": {},
   "outputs": [],
   "source": [
    "plt.figure(figsize=(12, 9))\n",
    "plt.title('Mapa de fases')\n",
    "plt.plot(solucion[:,0], solucion[:,1])\n",
    "plt.xlabel('presas')\n",
    "plt.ylabel('predadores')\n",
    "plt.show();"
   ]
  },
  {
   "cell_type": "markdown",
   "metadata": {},
   "source": [
    "# Scraping"
   ]
  },
  {
   "cell_type": "code",
   "execution_count": null,
   "metadata": {},
   "outputs": [],
   "source": [
    "from selenium import webdriver\n",
    "from pyvirtualdisplay import Display\n",
    "import time\n",
    "import pymongo "
   ]
  },
  {
   "cell_type": "code",
   "execution_count": null,
   "metadata": {},
   "outputs": [],
   "source": [
    "client=pymongo.MongoClient()\n",
    "db=client.geo_attack"
   ]
  },
  {
   "cell_type": "code",
   "execution_count": null,
   "metadata": {},
   "outputs": [],
   "source": [
    "# url\n",
    "\n",
    "url='https://threatbutt.com/map/'"
   ]
  },
  {
   "cell_type": "code",
   "execution_count": null,
   "metadata": {},
   "outputs": [],
   "source": [
    "display=Display(visible=0)\n",
    "#display.start()"
   ]
  },
  {
   "cell_type": "code",
   "execution_count": null,
   "metadata": {},
   "outputs": [],
   "source": [
    "driver=webdriver.Firefox()"
   ]
  },
  {
   "cell_type": "code",
   "execution_count": null,
   "metadata": {},
   "outputs": [],
   "source": [
    "# start scrap\n",
    "\n",
    "while 1:\n",
    "\n",
    "    driver.get(url)\n",
    "\n",
    "    time.sleep(3)\n",
    "\n",
    "    count=0\n",
    "    while count<1000:\n",
    "\n",
    "        elemento=driver.find_element_by_id('attackdiv')\n",
    "        t=elemento.text.split('\\n')[-1]\n",
    "\n",
    "        \n",
    "        predator=(t.split('('))[0]\n",
    "        ip_pred=(t.split('('))[1].split(')')[0]\n",
    "        \n",
    "        prey=(t.split('('))[1].split(')')[1][-4:]\n",
    "        ip_prey=(t.split('('))[2].split(')')[0]\n",
    "        \n",
    "        print({'timestamp':time.time(), 'predator': predator, 'ip_pred': ip_pred,\n",
    "               'prey': prey, 'ip_prey': ip_prey})\n",
    "        \n",
    "        db.geo.insert_one({'timestamp':time.time(), 'predator': predator, 'ip_pred': ip_pred,\n",
    "                           'prey': prey, 'ip_prey': ip_prey})\n",
    "        \n",
    "        count+=1"
   ]
  },
  {
   "cell_type": "markdown",
   "metadata": {},
   "source": [
    "# IP"
   ]
  },
  {
   "cell_type": "code",
   "execution_count": null,
   "metadata": {},
   "outputs": [],
   "source": [
    "# llamada mongo\n",
    "\n",
    "geo=list(db.geo2.find())"
   ]
  },
  {
   "cell_type": "code",
   "execution_count": null,
   "metadata": {},
   "outputs": [],
   "source": [
    "# ip predadores\n",
    "\n",
    "list_ip=[e['ip_pred'] for e in geo]"
   ]
  },
  {
   "cell_type": "code",
   "execution_count": null,
   "metadata": {},
   "outputs": [],
   "source": [
    "import requests\n",
    "import re\n",
    "\n",
    "from bs4 import BeautifulSoup as bs"
   ]
  },
  {
   "cell_type": "code",
   "execution_count": null,
   "metadata": {},
   "outputs": [],
   "source": [
    "res=requests.get('https://tools.keycdn.com/geo?host={}'.format(list_ip[0])).content"
   ]
  },
  {
   "cell_type": "code",
   "execution_count": null,
   "metadata": {},
   "outputs": [],
   "source": [
    "res"
   ]
  },
  {
   "cell_type": "code",
   "execution_count": null,
   "metadata": {},
   "outputs": [],
   "source": [
    "type(res)"
   ]
  },
  {
   "cell_type": "code",
   "execution_count": null,
   "metadata": {},
   "outputs": [],
   "source": [
    "soup=bs(res, features='lxml')\n",
    "\n",
    "soup"
   ]
  },
  {
   "cell_type": "code",
   "execution_count": null,
   "metadata": {},
   "outputs": [],
   "source": [
    "type(soup)"
   ]
  },
  {
   "cell_type": "code",
   "execution_count": null,
   "metadata": {},
   "outputs": [],
   "source": [
    "elem=soup.find_all('dd', {'class': 'col-8 text-monospace'})\n",
    "\n",
    "elem"
   ]
  },
  {
   "cell_type": "code",
   "execution_count": null,
   "metadata": {},
   "outputs": [],
   "source": [
    "type(elem[0])"
   ]
  },
  {
   "cell_type": "code",
   "execution_count": null,
   "metadata": {},
   "outputs": [],
   "source": [
    "for i in range(0, 50, 5):\n",
    "    \n",
    "    try:\n",
    "        res=requests.get('https://tools.keycdn.com/geo?host={}'.format(list_ip[i])).content\n",
    "        soup=bs(res, features='lxml')\n",
    "        elem=soup.find_all('dd', {'class': 'col-8 text-monospace'})\n",
    "        \n",
    "        for f in elem:\n",
    "            F=str(f)\n",
    "            \n",
    "            if 'lat' in F:\n",
    "                lat=re.findall('-?\\d+.\\d+', F.split('/')[0])[0]\n",
    "                lng=re.findall('-?\\d+.\\d+', F.split('/')[1])[0]\n",
    "                \n",
    "                print ()\n",
    "                print ('IP : {}'.format(list_ip[i]))\n",
    "                print ({'latitude':lat, 'longitude':lng})\n",
    "                \n",
    "    except:\n",
    "        continue"
   ]
  },
  {
   "cell_type": "code",
   "execution_count": null,
   "metadata": {},
   "outputs": [],
   "source": []
  }
 ],
 "metadata": {
  "kernelspec": {
   "display_name": "Python 3",
   "language": "python",
   "name": "python3"
  },
  "language_info": {
   "codemirror_mode": {
    "name": "ipython",
    "version": 3
   },
   "file_extension": ".py",
   "mimetype": "text/x-python",
   "name": "python",
   "nbconvert_exporter": "python",
   "pygments_lexer": "ipython3",
   "version": "3.7.6"
  }
 },
 "nbformat": 4,
 "nbformat_minor": 2
}
